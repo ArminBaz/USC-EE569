{
 "cells": [
  {
   "cell_type": "markdown",
   "metadata": {},
   "source": [
    "## Problem 2c Error Analysis"
   ]
  },
  {
   "cell_type": "markdown",
   "metadata": {},
   "source": [
    "I am going to use a TH1 of 0.002 and a TH2 of 0.001"
   ]
  },
  {
   "cell_type": "code",
   "execution_count": 46,
   "metadata": {},
   "outputs": [],
   "source": [
    "import numpy as np\n",
    "from tensorflow.keras.datasets import mnist,fashion_mnist\n",
    "from skimage.util import view_as_windows\n",
    "from pixelhop import Pixelhop\n",
    "from skimage.measure import block_reduce\n",
    "import xgboost as xgb\n",
    "import warnings, gc\n",
    "from sklearn.metrics import confusion_matrix, accuracy_score\n",
    "# suppress warnings\n",
    "warnings.filterwarnings(\"ignore\")\n",
    "import time"
   ]
  },
  {
   "cell_type": "code",
   "execution_count": 47,
   "metadata": {},
   "outputs": [],
   "source": [
    "np.random.seed(1)\n",
    "\n",
    "# Preprocess\n",
    "N_Train_Reduced = 10000    # 10000\n",
    "N_Train_Full = 60000       # 50000\n",
    "N_Test = 10000             # 10000\n",
    "\n",
    "BS = 2000 # batch size\n",
    "\n",
    "def shuffle_data(X, y):\n",
    "    shuffle_idx = np.random.permutation(y.size)\n",
    "    X = X[shuffle_idx]\n",
    "    y = y[shuffle_idx]\n",
    "    return X, y\n",
    "\n",
    "def select_balanced_subset(images, labels, use_num_images):\n",
    "    '''\n",
    "    select equal number of images from each classes\n",
    "    '''\n",
    "    num_total, H, W, C = images.shape\n",
    "    num_class = np.unique(labels).size\n",
    "    num_per_class = int(use_num_images / num_class)\n",
    "\n",
    "    # Shuffle\n",
    "    images, labels = shuffle_data(images, labels)\n",
    "\n",
    "    selected_images = np.zeros((use_num_images, H, W, C))\n",
    "    selected_labels = np.zeros(use_num_images)\n",
    "\n",
    "    for i in range(num_class):\n",
    "        selected_images[i * num_per_class:(i + 1) * num_per_class] = images[labels == i][:num_per_class]\n",
    "        selected_labels[i * num_per_class:(i + 1) * num_per_class] = np.ones((num_per_class)) * i\n",
    "\n",
    "    # Shuffle again\n",
    "    selected_images, selected_labels = shuffle_data(selected_images, selected_labels)\n",
    "\n",
    "    return selected_images, selected_labels\n",
    "\n",
    "def Shrink(X, shrinkArg):\n",
    "    #---- max pooling----\n",
    "    pool = shrinkArg['pool']\n",
    "    # Make two different things (if pool is True or if pool is False)\n",
    "    # if False do nothing, if True, do 2x2 max-pooling\n",
    "    out = X\n",
    "    if pool is False:\n",
    "        pass\n",
    "    elif pool is True:\n",
    "        N, H, W, C = X.shape\n",
    "        pool_height, pool_width = 2, 2\n",
    "        stride = 2\n",
    "        x_reshaped = X.reshape(N, H // pool_height, pool_height,\n",
    "                            W // pool_width, pool_width, C)\n",
    "        out = x_reshaped.max(axis=2).max(axis=3)\n",
    "\n",
    "    #---- neighborhood construction\n",
    "    win = shrinkArg['win']\n",
    "    stride = shrinkArg['stride']\n",
    "    pad = shrinkArg['pad']\n",
    "    ch = X.shape[-1]\n",
    "\n",
    "    # code from discussion\n",
    "    # pad\n",
    "    if pad > 0:\n",
    "        out = np.pad(out,((0,0), (pad,pad), (pad,pad), (0,0)), 'reflect')\n",
    "\n",
    "    # neighborhood construction\n",
    "    out = view_as_windows(out, (1,win,win,ch), (1,stride,stride,ch))\n",
    "\n",
    "    # return array\n",
    "    #print((out.reshape(out.shape[0], out.shape[1], out.shape[2], -1)).shape)\n",
    "    return out.reshape(out.shape[0], out.shape[1], out.shape[2], -1)\n",
    "\n",
    "# example callback function for how to concate features from different hops\n",
    "def Concat(X, concatArg):\n",
    "    return X\n",
    "\n",
    "# I changed this to take p2 as an argument so I can use different model names\n",
    "def get_feat(X, p2, num_layers=3):\n",
    "    output = p2.transform_singleHop(X,layer=0)\n",
    "    if num_layers>1:\n",
    "        for i in range(num_layers-1):\n",
    "            output = p2.transform_singleHop(output, layer=i+1)\n",
    "    return output\n",
    "\n",
    "def reshape_feats(train_feats, test_feats):\n",
    "    N_train, _, _, X_train = train_feats.shape\n",
    "    N_test, _, _, X_test = test_feats.shape\n",
    "    train = np.reshape(train_feats, (N_train, X_train))\n",
    "    test = np.reshape(test_feats, (N_test, X_test))\n",
    "    \n",
    "    return train, test"
   ]
  },
  {
   "cell_type": "code",
   "execution_count": 48,
   "metadata": {},
   "outputs": [],
   "source": [
    "# Which dataset to use\n",
    "dataset = 'fashion-mnist'"
   ]
  },
  {
   "cell_type": "code",
   "execution_count": 49,
   "metadata": {},
   "outputs": [
    {
     "name": "stdout",
     "output_type": "stream",
     "text": [
      "Loading FashionMNSIT\n"
     ]
    }
   ],
   "source": [
    "# ---------- Load MNIST data and split ----------\n",
    "if dataset == 'fashion-mnist':\n",
    "    print('Loading FashionMNSIT')\n",
    "    (x_train, y_train), (x_test,y_test) = fashion_mnist.load_data()\n",
    "elif dataset == 'mnist':\n",
    "    print('Loading MNIST')\n",
    "    (x_train, y_train), (x_test,y_test) = mnist.load_data()\n",
    "\n",
    "\n",
    "# -----------Data Preprocessing-----------\n",
    "x_train = np.asarray(x_train,dtype='float32')[:,:,:,np.newaxis]\n",
    "x_test = np.asarray(x_test,dtype='float32')[:,:,:,np.newaxis]\n",
    "y_train = np.asarray(y_train,dtype='int')\n",
    "y_test = np.asarray(y_test,dtype='int')\n",
    "\n",
    "# if use only 10000 images train pixelhop\n",
    "x_train_reduced, y_train_reduced = select_balanced_subset(x_train, y_train, use_num_images=N_Train_Reduced)\n",
    "\n",
    "x_train /= 255.0\n",
    "x_test /= 255.0"
   ]
  },
  {
   "cell_type": "code",
   "execution_count": 50,
   "metadata": {},
   "outputs": [],
   "source": [
    "# Setup the Shrink Arguments\n",
    "shrinkArgs = [{'func':Shrink, 'win':5, 'stride':1, 'pad':2, 'pool':False},\n",
    "               {'func':Shrink, 'win':5, 'stride':1, 'pad':0, 'pool':True},\n",
    "               {'func':Shrink, 'win':5, 'stride':1, 'pad':0, 'pool':True}]\n",
    "# Setup the Saab Arguments for both PixelHop++ and PixelHop\n",
    "SaabArgs = [{'num_AC_kernels':-1, 'needBias':False, 'cw':False},\n",
    "            {'num_AC_kernels':-1, 'needBias':True, 'cw':True},\n",
    "            {'num_AC_kernels':-1, 'needBias':True, 'cw':True}]\n",
    "# Setup Concat Arguments\n",
    "concatArg = {'func':Concat}"
   ]
  },
  {
   "cell_type": "code",
   "execution_count": 51,
   "metadata": {},
   "outputs": [],
   "source": [
    "# Construct PixelHop++ model\n",
    "p2 = Pixelhop(depth=3, TH1=0.002, TH2=0.001, \n",
    "              SaabArgs=SaabArgs, shrinkArgs=shrinkArgs, concatArg=concatArg)\n"
   ]
  },
  {
   "cell_type": "code",
   "execution_count": 52,
   "metadata": {},
   "outputs": [
    {
     "name": "stdout",
     "output_type": "stream",
     "text": [
      "Fitting the PixelHop++ model...\n",
      "=============================================>c/w Saab Train Hop 1\n",
      "=============================================>c/w Saab Train Hop 2\n",
      "=============================================>c/w Saab Train Hop 3\n",
      "Done.\n"
     ]
    }
   ],
   "source": [
    "# Fit the PixelHop++ Model\n",
    "print('Fitting the PixelHop++ model...')\n",
    "p2.fit(x_train_reduced)\n",
    "print('Done.')"
   ]
  },
  {
   "cell_type": "code",
   "execution_count": 53,
   "metadata": {},
   "outputs": [
    {
     "name": "stdout",
     "output_type": "stream",
     "text": [
      "Getting the hop3 training features for PixelHop++\n",
      "Done, getting the hop3 testing features for PixelHop++\n",
      "Done.\n",
      "Standardizing features...\n",
      "Done.\n",
      "Reshaping the features...\n",
      "Done.\n"
     ]
    }
   ],
   "source": [
    "print('Getting the hop3 training features for PixelHop++')\n",
    "train_hop3_feats = get_feat(x_train, p2)\n",
    "print('Done, getting the hop3 testing features for PixelHop++')\n",
    "test_hop3_feats = get_feat(x_test, p2)\n",
    "print('Done.')\n",
    "\n",
    "print('Standardizing features...')\n",
    "STD = np.std(train_hop3_feats, axis=0, keepdims=1)\n",
    "train_hop3_feats = train_hop3_feats/STD\n",
    "test_hop3_feats = test_hop3_feats/STD\n",
    "print('Done.')\n",
    "\n",
    "print('Reshaping the features...')\n",
    "train_reshaped, test_reshaped = reshape_feats(train_hop3_feats, test_hop3_feats)\n",
    "print('Done.')"
   ]
  },
  {
   "cell_type": "code",
   "execution_count": 54,
   "metadata": {},
   "outputs": [
    {
     "name": "stdout",
     "output_type": "stream",
     "text": [
      "Fitting xgboost on PixelHop++...\n",
      "[10:24:05] WARNING: ../src/learner.cc:1061: Starting in XGBoost 1.3.0, the default evaluation metric used with the objective 'multi:softprob' was changed from 'merror' to 'mlogloss'. Explicitly set eval_metric if you'd like to restore the old behavior.\n",
      "Done.\n"
     ]
    }
   ],
   "source": [
    "clf = xgb.XGBClassifier(n_jobs=-1,\n",
    "                    objective='multi:softprob',\n",
    "                    # tree_method='gpu_hist', gpu_id=None,\n",
    "                    max_depth=6,n_estimators=100,\n",
    "                    min_child_weight=5,gamma=5,\n",
    "                    subsample=0.8,learning_rate=0.1,\n",
    "                    nthread=8,colsample_bytree=1.0)\n",
    "\n",
    "print('Fitting xgboost on PixelHop++...')\n",
    "clf.fit(train_reshaped, y_train)\n",
    "print('Done.')"
   ]
  },
  {
   "cell_type": "code",
   "execution_count": 55,
   "metadata": {},
   "outputs": [
    {
     "name": "stdout",
     "output_type": "stream",
     "text": [
      "getting test accuracy of xgboost on PixelHop++...\n",
      "The testing accuracy of using PixelHop++ on a reduced training set with the xgboost classifier is : 86.0\n",
      "The training accuracy is : 91.21000000000001\n"
     ]
    }
   ],
   "source": [
    "# get accuracy on test dataset\n",
    "print('getting test accuracy of xgboost on PixelHop++...')\n",
    "pred_test = clf.predict(test_reshaped)\n",
    "pred_train = clf.predict(train_reshaped)\n",
    "acc_train = accuracy_score(y_train, pred_train)\n",
    "acc_test = accuracy_score(y_test, pred_test)\n",
    "print(f'The testing accuracy of using PixelHop++ on a reduced training set with the xgboost classifier is : {acc_test*100}')\n",
    "print(f'The training accuracy is : {acc_train*100}')"
   ]
  },
  {
   "cell_type": "markdown",
   "metadata": {},
   "source": [
    "### Confusion Matrix"
   ]
  },
  {
   "cell_type": "code",
   "execution_count": 56,
   "metadata": {},
   "outputs": [],
   "source": [
    "from sklearn.metrics import confusion_matrix\n",
    "from sklearn.metrics import plot_confusion_matrix\n",
    "import matplotlib.pyplot as plt\n",
    "plt.rcParams[\"figure.figsize\"] = (20,6)\n",
    "\n",
    "# labels for fashion-mnist\n",
    "fashion_labels = ['T-shirt/top', 'Trouser', 'Pullover', 'Dress', 'Coat',\n",
    "                  'Sandal', 'Shirt', 'Sneaker', 'Bag', 'Ankle Boot']"
   ]
  },
  {
   "cell_type": "code",
   "execution_count": 57,
   "metadata": {},
   "outputs": [
    {
     "data": {
      "text/plain": [
       "array([[846,   1,  16,  34,   4,   1,  87,   0,  11,   0],\n",
       "       [  3, 961,   2,  25,   4,   0,   3,   0,   2,   0],\n",
       "       [ 13,   1, 758,  12, 109,   0, 100,   0,   7,   0],\n",
       "       [ 33,   6,  12, 872,  27,   2,  44,   0,   4,   0],\n",
       "       [  0,   0,  89,  35, 802,   0,  67,   0,   7,   0],\n",
       "       [  1,   0,   0,   1,   0, 945,   0,  38,   0,  15],\n",
       "       [152,   0, 125,  34, 100,   0, 573,   0,  16,   0],\n",
       "       [  0,   0,   0,   0,   0,  29,   0, 930,   0,  41],\n",
       "       [  3,   0,   6,   6,   1,   6,  10,   3, 964,   1],\n",
       "       [  0,   0,   0,   0,   0,  10,   0,  40,   1, 949]])"
      ]
     },
     "execution_count": 57,
     "metadata": {},
     "output_type": "execute_result"
    }
   ],
   "source": [
    "confusion_matrix(y_test, pred_test)"
   ]
  },
  {
   "cell_type": "code",
   "execution_count": 58,
   "metadata": {},
   "outputs": [
    {
     "data": {
      "image/png": "[encoded data removed]",
      "text/plain": [
       "<Figure size 1440x432 with 2 Axes>"
      ]
     },
     "metadata": {
      "needs_background": "light"
     },
     "output_type": "display_data"
    }
   ],
   "source": [
    "plot_confusion_matrix(clf, test_reshaped, y_test)\n",
    "plt.show() "
   ]
  },
  {
   "cell_type": "code",
   "execution_count": null,
   "metadata": {},
   "outputs": [],
   "source": []
  }
 ],
 "metadata": {
  "kernelspec": {
   "display_name": "Python 3",
   "language": "python",
   "name": "python3"
  },
  "language_info": {
   "codemirror_mode": {
    "name": "ipython",
    "version": 3
   },
   "file_extension": ".py",
   "mimetype": "text/x-python",
   "name": "python",
   "nbconvert_exporter": "python",
   "pygments_lexer": "ipython3",
   "version": "3.7.4"
  }
 },
 "nbformat": 4,
 "nbformat_minor": 4
}
