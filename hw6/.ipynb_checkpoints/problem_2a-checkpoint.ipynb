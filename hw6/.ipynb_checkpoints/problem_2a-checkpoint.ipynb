{
 "cells": [
  {
   "cell_type": "markdown",
   "metadata": {},
   "source": [
    "### Reporting TH1 and Test Accuracy\n",
    "#### MNIST:\n",
    "- TH1 = 0.0001 : Test Accuracy = 96.89\n",
    "- TH1 = 0.002 : Test Accuracy = 96.89\n",
    "- TH1 = 0.005 : Test Accuracy = 96.57\n",
    "- TH1 = 0.007 : Test Accuracy = 96.36\n",
    "- TH1 = 0.05 : Test Accuracy = 93.94 \n",
    "- TH1 = 0.08 : Test Accuracy = 91.11 <br>\n",
    "#### Fashion-MNIST:\n",
    "- TH1 = 0.0001 : Test Accuracy = 86.09\n",
    "- TH1 = 0.002 : Test Accuracy = 86.09\n",
    "- TH1 = 0.005 : Test Accuracy = 85.84\n",
    "- TH1 = 0.007 : Test Accuracy = 85.16\n",
    "- TH1 = 0.05 : Test Accuracy = 81.43\n",
    "- TH1 = 0.08 : Test Accuracy = 79.85"
   ]
  },
  {
   "cell_type": "code",
   "execution_count": 173,
   "metadata": {},
   "outputs": [],
   "source": [
    "import numpy as np\n",
    "TH1_list = np.array([0.0001, 0.002, 0.005, 0.007, 0.05, 0.08])\n",
    "mnist_acc_list = np.array([96.89, 96.89, 96.57, 96.36, 93.94, 91.11])\n",
    "fmnist_acc_list = np.array([86.09, 86.09, 85.84, 85.16,  81.43, 79.85])"
   ]
  },
  {
   "cell_type": "markdown",
   "metadata": {},
   "source": [
    "### Problem 2 (a) NoteBook\n",
    "This notebook contains code for testing out different threshold values (TH1 & TH2) for a PixelHop++ model where I test different combinations out on both MNIST and Fashion-MNIST"
   ]
  },
  {
   "cell_type": "code",
   "execution_count": 174,
   "metadata": {},
   "outputs": [],
   "source": [
    "# Import statements\n",
    "from tensorflow.keras.datasets import mnist,fashion_mnist\n",
    "from skimage.util import view_as_windows\n",
    "from pixelhop import Pixelhop\n",
    "from skimage.measure import block_reduce\n",
    "import xgboost as xgb\n",
    "import warnings, gc\n",
    "from sklearn.metrics import confusion_matrix, accuracy_score\n",
    "# suppress warnings\n",
    "warnings.filterwarnings(\"ignore\")\n",
    "import time"
   ]
  },
  {
   "cell_type": "code",
   "execution_count": 175,
   "metadata": {},
   "outputs": [],
   "source": [
    "np.random.seed(1)\n",
    "\n",
    "# Preprocess\n",
    "N_Train_Reduced = 10000    # 10000\n",
    "N_Train_Full = 60000       # 50000\n",
    "N_Test = 10000             # 10000\n",
    "\n",
    "BS = 2000 # batch size"
   ]
  },
  {
   "cell_type": "code",
   "execution_count": 176,
   "metadata": {},
   "outputs": [],
   "source": [
    "def shuffle_data(X, y):\n",
    "    shuffle_idx = np.random.permutation(y.size)\n",
    "    X = X[shuffle_idx]\n",
    "    y = y[shuffle_idx]\n",
    "    return X, y"
   ]
  },
  {
   "cell_type": "code",
   "execution_count": 177,
   "metadata": {},
   "outputs": [],
   "source": [
    "def select_balanced_subset(images, labels, use_num_images):\n",
    "    '''\n",
    "    select equal number of images from each classes\n",
    "    '''\n",
    "    num_total, H, W, C = images.shape\n",
    "    num_class = np.unique(labels).size\n",
    "    num_per_class = int(use_num_images / num_class)\n",
    "\n",
    "    # Shuffle\n",
    "    images, labels = shuffle_data(images, labels)\n",
    "\n",
    "    selected_images = np.zeros((use_num_images, H, W, C))\n",
    "    selected_labels = np.zeros(use_num_images)\n",
    "\n",
    "    for i in range(num_class):\n",
    "        selected_images[i * num_per_class:(i + 1) * num_per_class] = images[labels == i][:num_per_class]\n",
    "        selected_labels[i * num_per_class:(i + 1) * num_per_class] = np.ones((num_per_class)) * i\n",
    "\n",
    "    # Shuffle again\n",
    "    selected_images, selected_labels = shuffle_data(selected_images, selected_labels)\n",
    "\n",
    "    return selected_images, selected_labels"
   ]
  },
  {
   "cell_type": "code",
   "execution_count": 178,
   "metadata": {},
   "outputs": [],
   "source": [
    "def Shrink(X, shrinkArg):\n",
    "    #---- max pooling----\n",
    "    pool = shrinkArg['pool']\n",
    "    # Make two different things (if pool is True or if pool is False)\n",
    "    # if False do nothing, if True, do 2x2 max-pooling\n",
    "    out = X\n",
    "    if pool is False:\n",
    "        pass\n",
    "    elif pool is True:\n",
    "        N, H, W, C = X.shape\n",
    "        pool_height, pool_width = 2, 2\n",
    "        stride = 2\n",
    "        x_reshaped = X.reshape(N, H // pool_height, pool_height,\n",
    "                            W // pool_width, pool_width, C)\n",
    "        out = x_reshaped.max(axis=2).max(axis=3)\n",
    "\n",
    "    #---- neighborhood construction\n",
    "    win = shrinkArg['win']\n",
    "    stride = shrinkArg['stride']\n",
    "    pad = shrinkArg['pad']\n",
    "    ch = X.shape[-1]\n",
    "\n",
    "    # code from discussion\n",
    "    # pad\n",
    "    if pad > 0:\n",
    "        out = np.pad(out,((0,0), (pad,pad), (pad,pad), (0,0)), 'reflect')\n",
    "\n",
    "    # neighborhood construction\n",
    "    out = view_as_windows(out, (1,win,win,ch), (1,stride,stride,ch))\n",
    "\n",
    "    # return array\n",
    "    #print((out.reshape(out.shape[0], out.shape[1], out.shape[2], -1)).shape)\n",
    "    return out.reshape(out.shape[0], out.shape[1], out.shape[2], -1)"
   ]
  },
  {
   "cell_type": "code",
   "execution_count": 179,
   "metadata": {},
   "outputs": [],
   "source": [
    "# example callback function for how to concate features from different hops\n",
    "def Concat(X, concatArg):\n",
    "    return X\n",
    "\n",
    "# I changed this to take p2 as an argument so I can use different model names\n",
    "def get_feat(X, p2, num_layers=3):\n",
    "    output = p2.transform_singleHop(X,layer=0)\n",
    "    if num_layers>1:\n",
    "        for i in range(num_layers-1):\n",
    "            output = p2.transform_singleHop(output, layer=i+1)\n",
    "    return output"
   ]
  },
  {
   "cell_type": "code",
   "execution_count": 180,
   "metadata": {},
   "outputs": [],
   "source": [
    "def reshape_feats(train_feats, test_feats):\n",
    "    N_train, _, _, X_train = train_feats.shape\n",
    "    N_test, _, _, X_test = test_feats.shape\n",
    "    train = np.reshape(train_feats, (N_train, X_train))\n",
    "    test = np.reshape(test_feats, (N_test, X_test))\n",
    "    \n",
    "    return train, test"
   ]
  },
  {
   "cell_type": "markdown",
   "metadata": {},
   "source": [
    "### Change this to test different datasets"
   ]
  },
  {
   "cell_type": "code",
   "execution_count": 181,
   "metadata": {},
   "outputs": [],
   "source": [
    "# Which dataset to use\n",
    "dataset = 'mnist'"
   ]
  },
  {
   "cell_type": "code",
   "execution_count": 182,
   "metadata": {},
   "outputs": [
    {
     "name": "stdout",
     "output_type": "stream",
     "text": [
      "Loading MNIST\n"
     ]
    }
   ],
   "source": [
    "# ---------- Load MNIST data and split ----------\n",
    "if dataset == 'fashion-mnist':\n",
    "    print('Loading FashionMNSIT')\n",
    "    (x_train, y_train), (x_test,y_test) = fashion_mnist.load_data()\n",
    "elif dataset == 'mnist':\n",
    "    print('Loading MNIST')\n",
    "    (x_train, y_train), (x_test,y_test) = mnist.load_data()\n",
    "\n",
    "\n",
    "# -----------Data Preprocessing-----------\n",
    "x_train = np.asarray(x_train,dtype='float32')[:,:,:,np.newaxis]\n",
    "x_test = np.asarray(x_test,dtype='float32')[:,:,:,np.newaxis]\n",
    "y_train = np.asarray(y_train,dtype='int')\n",
    "y_test = np.asarray(y_test,dtype='int')\n",
    "\n",
    "# if use only 10000 images train pixelhop\n",
    "x_train_reduced, y_train_reduced = select_balanced_subset(x_train, y_train, use_num_images=N_Train_Reduced)\n",
    "\n",
    "x_train /= 255.0\n",
    "x_test /= 255.0"
   ]
  },
  {
   "cell_type": "code",
   "execution_count": 183,
   "metadata": {},
   "outputs": [],
   "source": [
    "# Setup the Shrink Arguments\n",
    "shrinkArgs = [{'func':Shrink, 'win':5, 'stride':1, 'pad':2, 'pool':False},\n",
    "               {'func':Shrink, 'win':5, 'stride':1, 'pad':0, 'pool':True},\n",
    "               {'func':Shrink, 'win':5, 'stride':1, 'pad':0, 'pool':True}]\n",
    "# Setup the Saab Arguments for both PixelHop++ and PixelHop\n",
    "SaabArgs = [{'num_AC_kernels':-1, 'needBias':False, 'cw':False},\n",
    "            {'num_AC_kernels':-1, 'needBias':True, 'cw':True},\n",
    "            {'num_AC_kernels':-1, 'needBias':True, 'cw':True}]\n",
    "# Setup Concat Arguments\n",
    "concatArg = {'func':Concat}"
   ]
  },
  {
   "cell_type": "markdown",
   "metadata": {},
   "source": [
    "### Only change these threshold arguments"
   ]
  },
  {
   "cell_type": "code",
   "execution_count": 184,
   "metadata": {},
   "outputs": [],
   "source": [
    "# Thresholds to be changed\n",
    "thresh1 = 0.005"
   ]
  },
  {
   "cell_type": "code",
   "execution_count": 185,
   "metadata": {},
   "outputs": [],
   "source": [
    "# Construct PixelHop++ model\n",
    "p2 = Pixelhop(depth=3, TH1=thresh1, TH2=0.001, \n",
    "              SaabArgs=SaabArgs, shrinkArgs=shrinkArgs, concatArg=concatArg)\n"
   ]
  },
  {
   "cell_type": "code",
   "execution_count": 186,
   "metadata": {},
   "outputs": [
    {
     "name": "stdout",
     "output_type": "stream",
     "text": [
      "Fitting the PixelHop++ model...\n",
      "=============================================>c/w Saab Train Hop 1\n",
      "=============================================>c/w Saab Train Hop 2\n",
      "=============================================>c/w Saab Train Hop 3\n",
      "Done.\n"
     ]
    }
   ],
   "source": [
    "# Fit both of the models\n",
    "print('Fitting the PixelHop++ model...')\n",
    "p2.fit(x_train_reduced)\n",
    "print('Done.')"
   ]
  },
  {
   "cell_type": "code",
   "execution_count": 187,
   "metadata": {},
   "outputs": [
    {
     "name": "stdout",
     "output_type": "stream",
     "text": [
      "Getting the hop3 training features for PixelHop++\n",
      "Done, getting the hop3 testing features for PixelHop++\n",
      "Done.\n",
      "Standardizing features...\n",
      "Done.\n",
      "Reshaping the features...\n",
      "Done.\n"
     ]
    }
   ],
   "source": [
    "print('Getting the hop3 training features for PixelHop++')\n",
    "train_hop3_feats = get_feat(x_train, p2)\n",
    "print('Done, getting the hop3 testing features for PixelHop++')\n",
    "test_hop3_feats = get_feat(x_test, p2)\n",
    "print('Done.')\n",
    "\n",
    "print('Standardizing features...')\n",
    "STD = np.std(train_hop3_feats, axis=0, keepdims=1)\n",
    "train_hop3_feats = train_hop3_feats/STD\n",
    "test_hop3_feats = test_hop3_feats/STD\n",
    "print('Done.')\n",
    "\n",
    "print('Reshaping the features...')\n",
    "train_reshaped, test_reshaped = reshape_feats(train_hop3_feats, test_hop3_feats)\n",
    "print('Done.')"
   ]
  },
  {
   "cell_type": "code",
   "execution_count": 188,
   "metadata": {},
   "outputs": [
    {
     "name": "stdout",
     "output_type": "stream",
     "text": [
      "Fitting xgboost on PixelHop++...\n",
      "[22:46:48] WARNING: ../src/learner.cc:1061: Starting in XGBoost 1.3.0, the default evaluation metric used with the objective 'multi:softprob' was changed from 'merror' to 'mlogloss'. Explicitly set eval_metric if you'd like to restore the old behavior.\n",
      "Done.\n"
     ]
    }
   ],
   "source": [
    "clf = xgb.XGBClassifier(n_jobs=-1,\n",
    "                    objective='multi:softprob',\n",
    "                    # tree_method='gpu_hist', gpu_id=None,\n",
    "                    max_depth=6,n_estimators=100,\n",
    "                    min_child_weight=5,gamma=5,\n",
    "                    subsample=0.8,learning_rate=0.1,\n",
    "                    nthread=8,colsample_bytree=1.0)\n",
    "\n",
    "print('Fitting xgboost on PixelHop++...')\n",
    "clf.fit(train_reshaped, y_train)\n",
    "print('Done.')"
   ]
  },
  {
   "cell_type": "code",
   "execution_count": 189,
   "metadata": {},
   "outputs": [
    {
     "name": "stdout",
     "output_type": "stream",
     "text": [
      "getting test accuracy of xgboost on PixelHop++...\n",
      "Printing accuracies with a TH1 of: 0.005\n",
      "The testing accuracy of using PixelHop++ on a reduced training set with the xgboost classifier is : 96.48\n",
      "The training accuracy is : 98.6\n"
     ]
    }
   ],
   "source": [
    "# get accuracy on test dataset\n",
    "print('getting test accuracy of xgboost on PixelHop++...')\n",
    "pred_test = clf.predict(test_reshaped)\n",
    "pred_train = clf.predict(train_reshaped)\n",
    "acc_train = accuracy_score(y_train, pred_train)\n",
    "acc_test = accuracy_score(y_test, pred_test)\n",
    "print(f'Printing accuracies with a TH1 of: {thresh1}')\n",
    "print(f'The testing accuracy of using PixelHop++ on a reduced training set with the xgboost classifier is : {acc_test*100}')\n",
    "print(f'The training accuracy is : {acc_train*100}')"
   ]
  },
  {
   "cell_type": "markdown",
   "metadata": {},
   "source": [
    "<br>\n",
    "<br>"
   ]
  },
  {
   "cell_type": "markdown",
   "metadata": {},
   "source": [
    "### Calculate the number of parameters in PixelHop++"
   ]
  },
  {
   "cell_type": "code",
   "execution_count": 190,
   "metadata": {},
   "outputs": [
    {
     "name": "stdout",
     "output_type": "stream",
     "text": [
      "Getting the number of K1 features...\n"
     ]
    },
    {
     "ename": "ValueError",
     "evalue": "too many values to unpack (expected 4)",
     "output_type": "error",
     "traceback": [
      "\u001b[0;31m---------------------------------------------------------------------------\u001b[0m",
      "\u001b[0;31mValueError\u001b[0m                                Traceback (most recent call last)",
      "\u001b[0;32m<ipython-input-190-afc24ae6cb51>\u001b[0m in \u001b[0;36m<module>\u001b[0;34m\u001b[0m\n\u001b[1;32m      1\u001b[0m \u001b[0;31m# get K1\u001b[0m\u001b[0;34m\u001b[0m\u001b[0;34m\u001b[0m\u001b[0;34m\u001b[0m\u001b[0m\n\u001b[1;32m      2\u001b[0m \u001b[0mprint\u001b[0m\u001b[0;34m(\u001b[0m\u001b[0;34m'Getting the number of K1 features...'\u001b[0m\u001b[0;34m)\u001b[0m\u001b[0;34m\u001b[0m\u001b[0;34m\u001b[0m\u001b[0m\n\u001b[0;32m----> 3\u001b[0;31m \u001b[0m_\u001b[0m\u001b[0;34m,\u001b[0m \u001b[0m_\u001b[0m\u001b[0;34m,\u001b[0m \u001b[0m_\u001b[0m\u001b[0;34m,\u001b[0m \u001b[0mK1\u001b[0m \u001b[0;34m=\u001b[0m \u001b[0mget_feat\u001b[0m\u001b[0;34m(\u001b[0m\u001b[0mx_train\u001b[0m\u001b[0;34m,\u001b[0m \u001b[0mp2\u001b[0m\u001b[0;34m,\u001b[0m \u001b[0mnum_layers\u001b[0m\u001b[0;34m=\u001b[0m\u001b[0;36m0\u001b[0m\u001b[0;34m)\u001b[0m\u001b[0;34m\u001b[0m\u001b[0;34m\u001b[0m\u001b[0m\n\u001b[0m\u001b[1;32m      4\u001b[0m \u001b[0mprint\u001b[0m\u001b[0;34m(\u001b[0m\u001b[0;34m'Done.'\u001b[0m\u001b[0;34m)\u001b[0m\u001b[0;34m\u001b[0m\u001b[0;34m\u001b[0m\u001b[0m\n\u001b[1;32m      5\u001b[0m \u001b[0;34m\u001b[0m\u001b[0m\n",
      "\u001b[0;31mValueError\u001b[0m: too many values to unpack (expected 4)"
     ]
    }
   ],
   "source": [
    "# get K1\n",
    "print('Getting the number of K1 features...')\n",
    "feats = get_feat(x_train, p2, num_layers=0)\n",
    "_, _, _, K1 = feats.shape\n",
    "print('Done.')\n",
    "\n",
    "# get K2\n",
    "print('Getting the number of K2 features...')\n",
    "feats = get_feat(x_train, p2, num_layers=2)\n",
    "_, _, _, K2 = feats.shape\n",
    "\n",
    "print('Done.')\n",
    "\n",
    "# get k3\n",
    "print('Getting the number of K3 features...')\n",
    "_, _, _, K3 = get_feat(x_train, p2, num_layers=3)\n",
    "\n",
    "print('Done.')"
   ]
  },
  {
   "cell_type": "code",
   "execution_count": null,
   "metadata": {},
   "outputs": [],
   "source": [
    "# Use the values for K1, K2, and K3 to calculate the number of parameters\n",
    "num_param = (K1+K2+K3)*25\n",
    "\n",
    "print(f'The number of parameters in PixelHop++ is {num_param}')"
   ]
  },
  {
   "cell_type": "markdown",
   "metadata": {},
   "source": [
    "<br>\n",
    "<br>"
   ]
  },
  {
   "cell_type": "markdown",
   "metadata": {},
   "source": [
    "### Plot the different testing accuracy vs. TH1 curves "
   ]
  },
  {
   "cell_type": "code",
   "execution_count": 159,
   "metadata": {},
   "outputs": [],
   "source": [
    "import matplotlib.pyplot as plt\n",
    "plt.rcParams[\"figure.figsize\"] = (8,5)"
   ]
  },
  {
   "cell_type": "markdown",
   "metadata": {},
   "source": [
    "##### TH1 vs. MNIST"
   ]
  },
  {
   "cell_type": "code",
   "execution_count": 171,
   "metadata": {},
   "outputs": [
    {
     "data": {
      "image/png": "[encoded data removed]",
      "text/plain": [
       "<Figure size 576x360 with 1 Axes>"
      ]
     },
     "metadata": {
      "needs_background": "light"
     },
     "output_type": "display_data"
    }
   ],
   "source": [
    "plt.plot(TH1_list, mnist_acc_list)\n",
    "plt.ylabel('MNIST Test Accuracy')\n",
    "plt.xlabel('Threshold 1')\n",
    "plt.title('TH1 vs. MNIST')\n",
    "plt.show()"
   ]
  },
  {
   "cell_type": "markdown",
   "metadata": {},
   "source": [
    "##### TH1 vs. Fashion-MNIST"
   ]
  },
  {
   "cell_type": "code",
   "execution_count": 172,
   "metadata": {},
   "outputs": [
    {
     "data": {
      "image/png": "[encoded data removed]",
      "text/plain": [
       "<Figure size 576x360 with 1 Axes>"
      ]
     },
     "metadata": {
      "needs_background": "light"
     },
     "output_type": "display_data"
    }
   ],
   "source": [
    "plt.plot(TH1_list, fmnist_acc_list)\n",
    "plt.ylabel('Fashion-MNIST Test Accuracy')\n",
    "plt.xlabel('Threshold 1')\n",
    "plt.title('TH1 vs. Fashion-MNIST')\n",
    "plt.show()"
   ]
  },
  {
   "cell_type": "code",
   "execution_count": null,
   "metadata": {},
   "outputs": [],
   "source": []
  }
 ],
 "metadata": {
  "kernelspec": {
   "display_name": "Python 3",
   "language": "python",
   "name": "python3"
  },
  "language_info": {
   "codemirror_mode": {
    "name": "ipython",
    "version": 3
   },
   "file_extension": ".py",
   "mimetype": "text/x-python",
   "name": "python",
   "nbconvert_exporter": "python",
   "pygments_lexer": "ipython3",
   "version": "3.7.4"
  }
 },
 "nbformat": 4,
 "nbformat_minor": 4
}
