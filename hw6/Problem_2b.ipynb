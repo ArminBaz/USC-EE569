{
 "cells": [
  {
   "cell_type": "markdown",
   "metadata": {},
   "source": [
    "### Keeping Track of Accuracies"
   ]
  },
  {
   "cell_type": "markdown",
   "metadata": {},
   "source": [
    "#### PixelHop++  (TH1=0.005)\n",
    "##### MNIST\n",
    "TH2 = 0.001 : Train - 98.535 , Test - 96.57 <br>\n",
    "TH2 = 0.005 : Train - 93.92 , Test - 90.76 <br>\n",
    "TH2 = 0.01 : Train - 88.75 , Test - 84.52\n",
    "##### FashionMNIST\n",
    "TH2 = 0.001 : Train - 90.835 , Test - 85.84 <br>\n",
    "TH2 = 0.005 : Train - 85.56 , Test - 80.91 <br>\n",
    "TH2 = 0.01 : Train - 80.34 , Test - 76.13\n"
   ]
  },
  {
   "cell_type": "markdown",
   "metadata": {},
   "source": [
    "#### PixelHop Base (TH1=0.005)\n",
    "##### MNIST\n",
    "TH2 = 0.001 : Train - 98.803 , Test - 96.43 <br>\n",
    "TH2 = 0.005 : Train - 97.47, Test - 95.38 <br>\n",
    "TH2 = 0.01 : Train - 96.63 , Test - 94.64\n",
    "##### FashionMNIST\n",
    "TH2 = 0.001 : Train - 91.113 , Test - 86.0 <br>\n",
    "TH2 = 0.005 : Train - 87.00, Test - 82.98<br>\n",
    "TH2 = 0.01 : Train - 84.18 , Test - 80.46"
   ]
  },
  {
   "cell_type": "code",
   "execution_count": 123,
   "metadata": {},
   "outputs": [],
   "source": [
    "import numpy as np\n",
    "TH2_list = np.array([0.001, 0.005, 0.01])\n",
    "plus_mnist_train = np.array([98.535, 93.92, 88.75])\n",
    "plus_mnist_test = np.array([96.57, 90.76, 84.52])\n",
    "plus_fmnist_train = np.array([90.835, 85.56, 80.34])\n",
    "plus_fmnist_test = np.array([85.84, 80.91, 76.13])\n",
    "\n",
    "base_mnist_train = np.array([98.803, 97.47, 96.63])\n",
    "base_mnist_test = np.array([96.43, 95.38, 94.64])\n",
    "base_fmnist_train = np.array([91.113, 87.00, 84.18])\n",
    "base_fmnist_test = np.array([86.00, 82.98, 80.46])"
   ]
  },
  {
   "cell_type": "code",
   "execution_count": 124,
   "metadata": {},
   "outputs": [],
   "source": [
    "from tensorflow.keras.datasets import mnist,fashion_mnist\n",
    "from skimage.util import view_as_windows\n",
    "from pixelhop import Pixelhop\n",
    "from skimage.measure import block_reduce\n",
    "import xgboost as xgb\n",
    "import warnings, gc\n",
    "from sklearn.metrics import confusion_matrix, accuracy_score\n",
    "# suppress warnings\n",
    "warnings.filterwarnings(\"ignore\")\n",
    "import time"
   ]
  },
  {
   "cell_type": "markdown",
   "metadata": {},
   "source": [
    "#### Dataset Size Parameters"
   ]
  },
  {
   "cell_type": "code",
   "execution_count": 125,
   "metadata": {},
   "outputs": [],
   "source": [
    "np.random.seed(1)\n",
    "\n",
    "# Preprocess\n",
    "N_Train_Reduced = 10000    # 10000\n",
    "N_Train_Full = 60000     # 50000\n",
    "N_Test = 10000            # 10000\n",
    "\n",
    "BS = 2000 # batch size"
   ]
  },
  {
   "cell_type": "code",
   "execution_count": 126,
   "metadata": {},
   "outputs": [],
   "source": [
    "def shuffle_data(X, y):\n",
    "    shuffle_idx = np.random.permutation(y.size)\n",
    "    X = X[shuffle_idx]\n",
    "    y = y[shuffle_idx]\n",
    "    return X, y"
   ]
  },
  {
   "cell_type": "code",
   "execution_count": 127,
   "metadata": {},
   "outputs": [],
   "source": [
    "def select_balanced_subset(images, labels, use_num_images):\n",
    "    '''\n",
    "    select equal number of images from each classes\n",
    "    '''\n",
    "    num_total, H, W, C = images.shape\n",
    "    num_class = np.unique(labels).size\n",
    "    num_per_class = int(use_num_images / num_class)\n",
    "\n",
    "    # Shuffle\n",
    "    images, labels = shuffle_data(images, labels)\n",
    "\n",
    "    selected_images = np.zeros((use_num_images, H, W, C))\n",
    "    selected_labels = np.zeros(use_num_images)\n",
    "\n",
    "    for i in range(num_class):\n",
    "        selected_images[i * num_per_class:(i + 1) * num_per_class] = images[labels == i][:num_per_class]\n",
    "        selected_labels[i * num_per_class:(i + 1) * num_per_class] = np.ones((num_per_class)) * i\n",
    "\n",
    "    # Shuffle again\n",
    "    selected_images, selected_labels = shuffle_data(selected_images, selected_labels)\n",
    "\n",
    "    return selected_images, selected_labels"
   ]
  },
  {
   "cell_type": "code",
   "execution_count": 128,
   "metadata": {},
   "outputs": [],
   "source": [
    "def Shrink(X, shrinkArg):\n",
    "    #---- max pooling----\n",
    "    pool = shrinkArg['pool']\n",
    "    # Make two different things (if pool is True or if pool is False)\n",
    "    # if False do nothing, if True, do 2x2 max-pooling\n",
    "    out = X\n",
    "    if pool is False:\n",
    "        pass\n",
    "    elif pool is True:\n",
    "        N, H, W, C = X.shape\n",
    "        pool_height, pool_width = 2, 2\n",
    "        stride = 2\n",
    "        x_reshaped = X.reshape(N, H // pool_height, pool_height,\n",
    "                            W // pool_width, pool_width, C)\n",
    "        out = x_reshaped.max(axis=2).max(axis=3)\n",
    "\n",
    "    #---- neighborhood construction\n",
    "    win = shrinkArg['win']\n",
    "    stride = shrinkArg['stride']\n",
    "    pad = shrinkArg['pad']\n",
    "    ch = X.shape[-1]\n",
    "\n",
    "    # code from discussion\n",
    "    # pad\n",
    "    if pad > 0:\n",
    "        out = np.pad(out,((0,0), (pad,pad), (pad,pad), (0,0)), 'reflect')\n",
    "\n",
    "    # neighborhood construction\n",
    "    out = view_as_windows(out, (1,win,win,ch), (1,stride,stride,ch))\n",
    "\n",
    "    # return array\n",
    "    #print((out.reshape(out.shape[0], out.shape[1], out.shape[2], -1)).shape)\n",
    "    return out.reshape(out.shape[0], out.shape[1], out.shape[2], -1)"
   ]
  },
  {
   "cell_type": "code",
   "execution_count": 129,
   "metadata": {},
   "outputs": [],
   "source": [
    "# example callback function for how to concate features from different hops\n",
    "def Concat(X, concatArg):\n",
    "    return X\n",
    "\n",
    "def get_feat(X, p2, num_layers=3):\n",
    "    output = p2.transform_singleHop(X,layer=0)\n",
    "    if num_layers>1:\n",
    "        for i in range(num_layers-1):\n",
    "            output = p2.transform_singleHop(output, layer=i+1)\n",
    "    return output"
   ]
  },
  {
   "cell_type": "code",
   "execution_count": 130,
   "metadata": {},
   "outputs": [],
   "source": [
    "def reshape_feats(train_feats, test_feats):\n",
    "    N_train, _, _, X_train = train_feats.shape\n",
    "    N_test, _, _, X_test = test_feats.shape\n",
    "    train = np.reshape(train_feats, (N_train, X_train))\n",
    "    test = np.reshape(test_feats, (N_test, X_test))\n",
    "    \n",
    "    return train, test"
   ]
  },
  {
   "cell_type": "markdown",
   "metadata": {},
   "source": [
    "### Main"
   ]
  },
  {
   "cell_type": "markdown",
   "metadata": {},
   "source": [
    "#### Define the dataset to use"
   ]
  },
  {
   "cell_type": "code",
   "execution_count": 143,
   "metadata": {},
   "outputs": [],
   "source": [
    "dataset = 'fashion-mnist'"
   ]
  },
  {
   "cell_type": "code",
   "execution_count": 144,
   "metadata": {},
   "outputs": [],
   "source": [
    "# ---------- Load MNIST data and split ----------\n",
    "if dataset == 'mnist':\n",
    "    (x_train, y_train), (x_test,y_test) = mnist.load_data()\n",
    "elif dataset == 'fashion-mnist':\n",
    "    (x_train, y_train), (x_test,y_test) = fashion_mnist.load_data()\n",
    "\n",
    "\n",
    "# -----------Data Preprocessing-----------\n",
    "x_train = np.asarray(x_train,dtype='float32')[:,:,:,np.newaxis]\n",
    "x_test = np.asarray(x_test,dtype='float32')[:,:,:,np.newaxis]\n",
    "y_train = np.asarray(y_train,dtype='int')\n",
    "y_test = np.asarray(y_test,dtype='int')\n",
    "\n",
    "# if use only 10000 images train pixelhop\n",
    "x_train_reduced, y_train_reduced = select_balanced_subset(x_train, y_train, use_num_images=N_Train_Reduced)\n",
    "\n",
    "x_train /= 255.0\n",
    "x_test /= 255.0\n",
    "    \n",
    "    "
   ]
  },
  {
   "cell_type": "markdown",
   "metadata": {},
   "source": [
    "#### Change TH2 value"
   ]
  },
  {
   "cell_type": "code",
   "execution_count": 145,
   "metadata": {},
   "outputs": [],
   "source": [
    "thresh2 = 0.001"
   ]
  },
  {
   "cell_type": "markdown",
   "metadata": {},
   "source": [
    "### Module 1"
   ]
  },
  {
   "cell_type": "code",
   "execution_count": 146,
   "metadata": {},
   "outputs": [
    {
     "name": "stdout",
     "output_type": "stream",
     "text": [
      "Running Module 1...\n",
      "Training PixelHop++ model...\n",
      "=============================================>c/w Saab Train Hop 1\n",
      "=============================================>c/w Saab Train Hop 2\n",
      "=============================================>c/w Saab Train Hop 3\n",
      "Done. \n",
      "Training PixelHop model...\n",
      "=============================================>c/w Saab Train Hop 1\n",
      "=============================================>c/w Saab Train Hop 2\n",
      "=============================================>c/w Saab Train Hop 3\n",
      "Done.\n"
     ]
    }
   ],
   "source": [
    "print('Running Module 1...')\n",
    "# -----------Module 1: set PixelHop parameters-----------\n",
    "# PixelHop++ parameteers\n",
    "# Setup the Shrink Arguments\n",
    "shrinkArgs = [{'func':Shrink, 'win':5, 'stride':1, 'pad':2, 'pool':False},\n",
    "               {'func':Shrink, 'win':5, 'stride':1, 'pad':0, 'pool':True},\n",
    "               {'func':Shrink, 'win':5, 'stride':1, 'pad':0, 'pool':True}]\n",
    "# Setup the Saab Arguments for PixelHop++\n",
    "SaabArgs_plus = [{'num_AC_kernels':-1, 'needBias':False, 'cw':False},\n",
    "            {'num_AC_kernels':-1, 'needBias':True, 'cw':True},\n",
    "            {'num_AC_kernels':-1, 'needBias':True, 'cw':True}]\n",
    "# Setup the Saab Arguments for PixelHop\n",
    "SaabArgs_base = [{'num_AC_kernels':-1, 'needBias':False, 'cw':False},\n",
    "            {'num_AC_kernels':-1, 'needBias':True, 'cw':False},\n",
    "            {'num_AC_kernels':-1, 'needBias':True, 'cw':False}]\n",
    "# Setup Concat Arguments\n",
    "concatArg = {'func':Concat}\n",
    "\n",
    "\n",
    "# -----------Module 1: Train PixelHop -----------\n",
    "# Construct PixelHop++ model\n",
    "p2_plus = Pixelhop(depth=3, TH1=0.005, TH2=thresh2, \n",
    "              SaabArgs=SaabArgs_plus, shrinkArgs=shrinkArgs, concatArg=concatArg)\n",
    "\n",
    "# Construct the PixelHop model\n",
    "p2_base = Pixelhop(depth=3, TH1=0.005, TH2=thresh2, \n",
    "              SaabArgs=SaabArgs_base, shrinkArgs=shrinkArgs, concatArg=concatArg)\n",
    "\n",
    "# Train PixelHop++ on the reduced subset\n",
    "print('Training PixelHop++ model...')\n",
    "p2_plus.fit(x_train_reduced)\n",
    "print('Done. \\nTraining PixelHop model...')\n",
    "p2_base.fit(x_train_reduced)\n",
    "print('Done.')"
   ]
  },
  {
   "cell_type": "markdown",
   "metadata": {},
   "source": [
    "## Module 2"
   ]
  },
  {
   "cell_type": "code",
   "execution_count": 135,
   "metadata": {},
   "outputs": [
    {
     "name": "stdout",
     "output_type": "stream",
     "text": [
      "Running Module 2...\n",
      "Getting the hop3 features for PixelHop++\n",
      "Getting the hop3 features for PixelHop\n"
     ]
    }
   ],
   "source": [
    "print('Running Module 2...')\n",
    "# --------- Module 2: get only Hop 3 feature for both training set and testing set -----------\n",
    "# you can get feature \"batch wise\" and concatenate them if your memory is restricted\n",
    "print('Getting the hop3 features for PixelHop++')\n",
    "train_hop3_feats_plus = get_feat(x_train, p2_plus)\n",
    "test_hop3_feats_plus = get_feat(x_test, p2_plus)\n",
    "print('Getting the hop3 features for PixelHop')\n",
    "train_hop3_feats_base = get_feat(x_train, p2_base)\n",
    "test_hop3_feats_base = get_feat(x_test, p2_base)"
   ]
  },
  {
   "cell_type": "code",
   "execution_count": 136,
   "metadata": {},
   "outputs": [],
   "source": [
    "# --------- Module 2: standardization\n",
    "STD_plus = np.std(train_hop3_feats_plus, axis=0, keepdims=1)\n",
    "STD_base = np.std(train_hop3_feats_base, axis=0, keepdims=1)\n",
    "train_hop3_feats_plus = train_hop3_feats_plus/STD_plus\n",
    "test_hop3_feats_plus = test_hop3_feats_plus/STD_plus\n",
    "train_hop3_feats_base = train_hop3_feats_base/STD_base\n",
    "test_hop3_feats_base = test_hop3_feats_base/STD_base"
   ]
  },
  {
   "cell_type": "code",
   "execution_count": 137,
   "metadata": {},
   "outputs": [
    {
     "name": "stdout",
     "output_type": "stream",
     "text": [
      "(60000, 1, 1, 128)\n",
      "(10000, 1, 1, 128)\n",
      "(60000, 1, 1, 69)\n",
      "(10000, 1, 1, 69)\n"
     ]
    }
   ],
   "source": [
    "print(train_hop3_feats_plus.shape)\n",
    "print(test_hop3_feats_plus.shape)\n",
    "print(train_hop3_feats_base.shape)\n",
    "print(test_hop3_feats_base.shape)"
   ]
  },
  {
   "cell_type": "markdown",
   "metadata": {},
   "source": [
    "##### Reshape the features"
   ]
  },
  {
   "cell_type": "code",
   "execution_count": 138,
   "metadata": {},
   "outputs": [],
   "source": [
    "train_plus_reshaped, test_plus_reshaped = reshape_feats(train_hop3_feats_plus, test_hop3_feats_plus)\n",
    "train_base_reshaped, test_base_reshaped = reshape_feats(train_hop3_feats_base, test_hop3_feats_base)"
   ]
  },
  {
   "cell_type": "code",
   "execution_count": 139,
   "metadata": {
    "scrolled": true
   },
   "outputs": [
    {
     "name": "stdout",
     "output_type": "stream",
     "text": [
      "(60000, 128)\n",
      "(10000, 128)\n",
      "(60000, 69)\n",
      "(10000, 69)\n"
     ]
    }
   ],
   "source": [
    "print(train_plus_reshaped.shape)\n",
    "print(test_plus_reshaped.shape)\n",
    "print(train_base_reshaped.shape)\n",
    "print(test_base_reshaped.shape)"
   ]
  },
  {
   "cell_type": "markdown",
   "metadata": {},
   "source": [
    "## Module 3"
   ]
  },
  {
   "cell_type": "code",
   "execution_count": 107,
   "metadata": {
    "scrolled": true
   },
   "outputs": [
    {
     "name": "stdout",
     "output_type": "stream",
     "text": [
      "Running Module 3...\n",
      "Fitting xgboost on PixelHop++...\n",
      "[00:32:56] WARNING: ../src/learner.cc:1061: Starting in XGBoost 1.3.0, the default evaluation metric used with the objective 'multi:softprob' was changed from 'merror' to 'mlogloss'. Explicitly set eval_metric if you'd like to restore the old behavior.\n",
      "Done. \n",
      "Fitting xgboost on PixelHop...\n",
      "[00:34:16] WARNING: ../src/learner.cc:1061: Starting in XGBoost 1.3.0, the default evaluation metric used with the objective 'multi:softprob' was changed from 'merror' to 'mlogloss'. Explicitly set eval_metric if you'd like to restore the old behavior.\n",
      "Done.\n"
     ]
    }
   ],
   "source": [
    "print('Running Module 3...')\n",
    "#---------- Module 3: Train XGBoost classifier on hop3 feature ---------\n",
    "\n",
    "clf_plus = xgb.XGBClassifier(n_jobs=-1,\n",
    "                    objective='multi:softprob',\n",
    "                    # tree_method='gpu_hist', gpu_id=None,\n",
    "                    max_depth=6,n_estimators=100,\n",
    "                    min_child_weight=5,gamma=5,\n",
    "                    subsample=0.8,learning_rate=0.1,\n",
    "                    nthread=8,colsample_bytree=1.0)\n",
    "\n",
    "clf_base = xgb.XGBClassifier(n_jobs=-1,\n",
    "                    objective='multi:softprob',\n",
    "                    # tree_method='gpu_hist', gpu_id=None,\n",
    "                    max_depth=6,n_estimators=100,\n",
    "                    min_child_weight=5,gamma=5,\n",
    "                    subsample=0.8,learning_rate=0.1,\n",
    "                    nthread=8,colsample_bytree=1.0)\n",
    "\n",
    "# fit the classifier to the reshaped training data\n",
    "print('Fitting xgboost on PixelHop++...')\n",
    "clf_plus.fit(train_plus_reshaped, y_train)\n",
    "print('Done. \\nFitting xgboost on PixelHop...')\n",
    "clf_base.fit(train_base_reshaped, y_train)\n",
    "print('Done.')"
   ]
  },
  {
   "cell_type": "code",
   "execution_count": 108,
   "metadata": {
    "scrolled": false
   },
   "outputs": [
    {
     "name": "stdout",
     "output_type": "stream",
     "text": [
      "Getting accuracy of PixelHop++...\n",
      "The testing accuracy is : 76.13\n",
      "The training accuracy is : 80.34166666666667\n",
      "\n",
      "Getting accuracy of PixelHop...\n",
      "The testing accuracy of using is : 80.46\n",
      "The training accuracy is : 84.18333333333334\n"
     ]
    }
   ],
   "source": [
    "# get accuracy on test dataset\n",
    "print('Getting accuracy of PixelHop++...')\n",
    "pred_test_plus = clf_plus.predict(test_plus_reshaped)\n",
    "pred_train_plus = clf_plus.predict(train_plus_reshaped)\n",
    "acc_train_plus = accuracy_score(y_train, pred_train_plus)\n",
    "acc_test_plus = accuracy_score(y_test, pred_test_plus)\n",
    "print(f'The testing accuracy is : {acc_test_plus*100}')\n",
    "print(f'The training accuracy is : {acc_train_plus*100}')\n",
    "print('\\nGetting accuracy of PixelHop...')\n",
    "pred_test_base = clf_base.predict(test_base_reshaped)\n",
    "pred_train_base = clf_base.predict(train_base_reshaped)\n",
    "acc_train_base = accuracy_score(y_train, pred_train_base)\n",
    "acc_test_base = accuracy_score(y_test, pred_test_base)\n",
    "print(f'The testing accuracy of using is : {acc_test_base*100}')\n",
    "print(f'The training accuracy is : {acc_train_base*100}')"
   ]
  },
  {
   "cell_type": "markdown",
   "metadata": {},
   "source": [
    "<br>\n",
    "<br>\n",
    "<br>"
   ]
  },
  {
   "cell_type": "markdown",
   "metadata": {},
   "source": [
    "### Finding Model Size for PixelHop and PixelHop++"
   ]
  },
  {
   "cell_type": "code",
   "execution_count": 147,
   "metadata": {},
   "outputs": [],
   "source": [
    "def find_model_size(p2, plus):\n",
    "    num_param = 0\n",
    "    \n",
    "    # run get_feat to get K1, K2, and K3\n",
    "    # get K1\n",
    "    print('Getting the number of K1 features...')\n",
    "    feats = get_feat(x_train, p2, num_layers=0)\n",
    "    _, _, _, K1 = feats.shape\n",
    "    print('Done.')\n",
    "\n",
    "    # get K2\n",
    "    print('Getting the number of K2 features...')\n",
    "    feats = get_feat(x_train, p2, num_layers=2)\n",
    "    _, _, _, K2 = feats.shape\n",
    "    print('Done.')\n",
    "\n",
    "    # get k3\n",
    "    print('Getting the number of K3 features...')\n",
    "    feats = get_feat(x_train, p2, num_layers=3)\n",
    "    _, _, _, K3 = feats.shape\n",
    "    print('Done.')\n",
    "    \n",
    "    # check if we're finding model size for PixelHop++\n",
    "    if plus is True:\n",
    "        num_param = (K1+K2+K3)*25\n",
    "    else:\n",
    "        num_param = (5*5*K1 + K1*5*5*K2 + K2*5*5*K3)\n",
    "    \n",
    "    return num_param"
   ]
  },
  {
   "cell_type": "code",
   "execution_count": 148,
   "metadata": {},
   "outputs": [
    {
     "name": "stdout",
     "output_type": "stream",
     "text": [
      "Getting the number of K1 features...\n",
      "Done.\n",
      "Getting the number of K2 features...\n",
      "Done.\n",
      "Getting the number of K3 features...\n",
      "Done.\n",
      "Getting the number of K1 features...\n",
      "Done.\n",
      "Getting the number of K2 features...\n",
      "Done.\n",
      "Getting the number of K3 features...\n",
      "Done.\n"
     ]
    }
   ],
   "source": [
    "model_size_plus = find_model_size(p2=p2_plus, plus=True)\n",
    "model_size_base = find_model_size(p2=p2_base, plus=False)"
   ]
  },
  {
   "cell_type": "code",
   "execution_count": 149,
   "metadata": {},
   "outputs": [
    {
     "name": "stdout",
     "output_type": "stream",
     "text": [
      "The model size of PixelHop++ is: 3800\n",
      "The model size of PixelHop is: 74275\n"
     ]
    }
   ],
   "source": [
    "print(f'The model size of PixelHop++ is: {model_size_plus}')\n",
    "print(f'The model size of PixelHop is: {model_size_base}')"
   ]
  },
  {
   "cell_type": "markdown",
   "metadata": {},
   "source": [
    "<br>\n",
    "<br>\n",
    "<br>"
   ]
  },
  {
   "cell_type": "markdown",
   "metadata": {},
   "source": [
    "### Plotting TH2 vs train and test accuracies for PixelHop and PixelHop++"
   ]
  },
  {
   "cell_type": "markdown",
   "metadata": {},
   "source": [
    "#### TH2 vs. MNIST"
   ]
  },
  {
   "cell_type": "code",
   "execution_count": 111,
   "metadata": {},
   "outputs": [],
   "source": [
    "import matplotlib.pyplot as plt"
   ]
  },
  {
   "cell_type": "code",
   "execution_count": 119,
   "metadata": {},
   "outputs": [
    {
     "data": {
      "text/plain": [
       "Text(0.5, 1.0, 'TH2 vs MNIST Accuracy')"
      ]
     },
     "execution_count": 119,
     "metadata": {},
     "output_type": "execute_result"
    },
    {
     "data": {
      "image/png": "[encoded data removed]",
      "text/plain": [
       "<Figure size 432x288 with 1 Axes>"
      ]
     },
     "metadata": {
      "needs_background": "light"
     },
     "output_type": "display_data"
    }
   ],
   "source": [
    "plt.plot(TH2_list, plus_mnist_train)\n",
    "plt.plot(TH2_list, plus_mnist_test)\n",
    "plt.plot(TH2_list, base_mnist_train)\n",
    "plt.plot(TH2_list, base_mnist_test)\n",
    "plt.legend(['PH++ Train', 'PH++ Test', 'PH Train', 'PH Test'])\n",
    "plt.ylabel('Accuracy')\n",
    "plt.xlabel('Threshold 2')\n",
    "plt.title('TH2 vs MNIST Accuracy')"
   ]
  },
  {
   "cell_type": "markdown",
   "metadata": {},
   "source": [
    "#### TH2 vs Fashion-MNIST"
   ]
  },
  {
   "cell_type": "code",
   "execution_count": 120,
   "metadata": {},
   "outputs": [
    {
     "data": {
      "text/plain": [
       "Text(0.5, 1.0, 'TH2 vs Fashion-MNIST Accuracy')"
      ]
     },
     "execution_count": 120,
     "metadata": {},
     "output_type": "execute_result"
    },
    {
     "data": {
      "image/png": "[encoded data removed]",
      "text/plain": [
       "<Figure size 432x288 with 1 Axes>"
      ]
     },
     "metadata": {
      "needs_background": "light"
     },
     "output_type": "display_data"
    }
   ],
   "source": [
    "plt.plot(TH2_list, plus_fmnist_train)\n",
    "plt.plot(TH2_list, plus_fmnist_test)\n",
    "plt.plot(TH2_list, base_fmnist_train)\n",
    "plt.plot(TH2_list, base_fmnist_test)\n",
    "plt.legend(['PH++ Train', 'PH++ Test', 'PH Train', 'PH Test'])\n",
    "plt.ylabel('Accuracy')\n",
    "plt.xlabel('Threshold 2')\n",
    "plt.title('TH2 vs Fashion-MNIST Accuracy')"
   ]
  },
  {
   "cell_type": "markdown",
   "metadata": {},
   "source": [
    "<br>\n",
    "<br>\n",
    "<br>"
   ]
  }
 ],
 "metadata": {
  "kernelspec": {
   "display_name": "Python 3",
   "language": "python",
   "name": "python3"
  },
  "language_info": {
   "codemirror_mode": {
    "name": "ipython",
    "version": 3
   },
   "file_extension": ".py",
   "mimetype": "text/x-python",
   "name": "python",
   "nbconvert_exporter": "python",
   "pygments_lexer": "ipython3",
   "version": "3.7.4"
  }
 },
 "nbformat": 4,
 "nbformat_minor": 4
}
